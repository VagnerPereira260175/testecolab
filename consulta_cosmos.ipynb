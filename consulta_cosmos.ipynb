{
  "nbformat": 4,
  "nbformat_minor": 0,
  "metadata": {
    "colab": {
      "provenance": [],
      "authorship_tag": "ABX9TyNgx5+idjKtlaXVLdIxdBIv",
      "include_colab_link": true
    },
    "kernelspec": {
      "name": "python3",
      "display_name": "Python 3"
    },
    "language_info": {
      "name": "python"
    }
  },
  "cells": [
    {
      "cell_type": "markdown",
      "metadata": {
        "id": "view-in-github",
        "colab_type": "text"
      },
      "source": [
        "<a href=\"https://colab.research.google.com/github/VagnerPereira260175/testecolab/blob/main/consulta_cosmos.ipynb\" target=\"_parent\"><img src=\"https://colab.research.google.com/assets/colab-badge.svg\" alt=\"Open In Colab\"/></a>"
      ]
    },
    {
      "cell_type": "code",
      "execution_count": null,
      "metadata": {
        "id": "w7PlRGTjsqHV"
      },
      "outputs": [],
      "source": [
        "# Script de consulta de dados em uma base de dados no Banco de dados cosmosdb\n",
        "\n",
        "from pymongo import MongoClient"
      ]
    },
    {
      "cell_type": "code",
      "source": [
        "cosmos_db_name = 'nome da database '\n",
        "cosmos_connection_uri = # api para conectar no banco "
      ],
      "metadata": {
        "id": "OBkYY6aTuVxe"
      },
      "execution_count": null,
      "outputs": []
    },
    {
      "cell_type": "code",
      "source": [
        "client = MongoClient(cosmos_connection_uri)\n",
        "db = client.get_database(cosmos_db_name)"
      ],
      "metadata": {
        "id": "AX8FXaTWuV58"
      },
      "execution_count": null,
      "outputs": []
    },
    {
      "cell_type": "code",
      "source": [
        "coll = db['xxxxxxx_xxxxxx'] # coll de colection/tabela"
      ],
      "metadata": {
        "id": "lR9ELuv_uV_J"
      },
      "execution_count": null,
      "outputs": []
    },
    {
      "cell_type": "code",
      "source": [
        "filtro = {\"DT_GRAVACAO_COSMOS\": {\"$gte\":1676113255, \"$lte\": 1676118655}}## Um filtro entre duas datas "
      ],
      "metadata": {
        "id": "MaadS08duWEv"
      },
      "execution_count": null,
      "outputs": []
    },
    {
      "cell_type": "code",
      "source": [
        "consulta = list(coll.find(filtro, {'chave': 'valor', '_id': 0,'CD_NOME_TAG':1, 'DT_GRAVACAO_COSMOS':1,'FL_ALARME_TAG': 1}))## Filtrando um item em uma collection "
      ],
      "metadata": {
        "id": "ARdySnFfuWKS"
      },
      "execution_count": null,
      "outputs": []
    },
    {
      "cell_type": "code",
      "source": [
        "df = pd.DataFrame.from_dict(consulta) #tranformando o resultado em Dataframe\n",
        "df.to_csv('query_result.csv', index=False)"
      ],
      "metadata": {
        "id": "yqbsxZY-uWOf"
      },
      "execution_count": null,
      "outputs": []
    },
    {
      "cell_type": "code",
      "source": [
        "import datetime as dt \n",
        "df['DT_GRAVACAO_COSMOS'] = pd.to_datetime(df['DT_GRAVACAO_COSMOS'], unit='s')#tranformando o Timestamp"
      ],
      "metadata": {
        "id": "ioOlIWTSuWSr"
      },
      "execution_count": null,
      "outputs": []
    },
    {
      "cell_type": "code",
      "source": [
        "filtered_df = df[df['Chave'] == 'Valor'] # filtrando um item especifico no dataframe"
      ],
      "metadata": {
        "id": "DsEYTnLMuWXW"
      },
      "execution_count": null,
      "outputs": []
    }
  ]
}