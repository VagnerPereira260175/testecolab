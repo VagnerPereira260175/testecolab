{
  "nbformat": 4,
  "nbformat_minor": 0,
  "metadata": {
    "colab": {
      "provenance": [],
      "authorship_tag": "ABX9TyNRLjUuEJui03FQw2M8uQah",
      "include_colab_link": true
    },
    "kernelspec": {
      "name": "python3",
      "display_name": "Python 3"
    },
    "language_info": {
      "name": "python"
    }
  },
  "cells": [
    {
      "cell_type": "markdown",
      "metadata": {
        "id": "view-in-github",
        "colab_type": "text"
      },
      "source": [
        "<a href=\"https://colab.research.google.com/github/VagnerPereira260175/testecolab/blob/main/create_information_fake_for_personal.ipynb\" target=\"_parent\"><img src=\"https://colab.research.google.com/assets/colab-badge.svg\" alt=\"Open In Colab\"/></a>"
      ]
    },
    {
      "cell_type": "code",
      "execution_count": null,
      "metadata": {
        "id": "yv09Mkd95Vy_"
      },
      "outputs": [],
      "source": [
        "import csv\n",
        "import random\n",
        "import time\n",
        "from datetime import datetime\n",
        "\n",
        "# Função para gerar dados pessoais aleatórios\n",
        "def gerar_dados():\n",
        "    nomes = ['João', 'Maria', 'José', 'Ana', 'Pedro']\n",
        "    sobrenomes = ['Silva', 'Santos', 'Oliveira', 'Pereira', 'Lima']\n",
        "    sexo = random.choice(['Masculino', 'Feminino'])\n",
        "    telefone = f'{random.randint(100, 999)}-{random.randint(1000, 9999)}'\n",
        "    endereco = f'{random.randint(1, 100)} Rua {random.choice(sobrenomes)}, Cidade'\n",
        "    data_nascimento = f'{random.randint(1, 28)}/{random.randint(1, 12)}/{random.randint(1970, 2000)}'\n",
        "\n",
        "    return [random.choice(nomes), telefone, endereco, sexo, data_nascimento]\n",
        "\n",
        "# Função para escrever dados no arquivo CSV\n",
        "def escrever_csv(dados, arquivo):\n",
        "    with open(arquivo, 'a', newline='') as file:\n",
        "        writer = csv.writer(file)\n",
        "        writer.writerow(dados)\n",
        "\n",
        "# Nome do arquivo CSV\n",
        "arquivo_csv = 'dados_pessoais.csv'\n",
        "\n",
        "# Gerar dados e escrever no arquivo CSV\n",
        "novos_dados = gerar_dados()\n",
        "escrever_csv(novos_dados, arquivo_csv)\n",
        "\n",
        "# Adicionar a funcionalidade de executar a cada 5 minutos\n",
        "while True:\n",
        "    time.sleep(5)  # Espera por 5 minutos\n",
        "    novos_dados = gerar_dados()\n",
        "    escrever_csv(novos_dados, arquivo_csv)\n",
        "    print(f'Novos dados inseridos: {novos_dados} em {datetime.now()}')\n"
      ]
    }
  ]
}