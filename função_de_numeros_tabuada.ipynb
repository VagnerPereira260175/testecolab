{
  "nbformat": 4,
  "nbformat_minor": 0,
  "metadata": {
    "colab": {
      "provenance": [],
      "authorship_tag": "ABX9TyOjwEvvC53/ANknwCNbotmJ",
      "include_colab_link": true
    },
    "kernelspec": {
      "name": "python3",
      "display_name": "Python 3"
    },
    "language_info": {
      "name": "python"
    }
  },
  "cells": [
    {
      "cell_type": "markdown",
      "metadata": {
        "id": "view-in-github",
        "colab_type": "text"
      },
      "source": [
        "<a href=\"https://colab.research.google.com/github/VagnerPereira260175/testecolab/blob/main/fun%C3%A7%C3%A3o_de_numeros_tabuada.ipynb\" target=\"_parent\"><img src=\"https://colab.research.google.com/assets/colab-badge.svg\" alt=\"Open In Colab\"/></a>"
      ]
    },
    {
      "cell_type": "code",
      "source": [
        "import random\n",
        "import time\n",
        "\n",
        "def check_number():\n",
        "    # Gera um número aleatório entre 1 e 100\n",
        "    number = random.randint(40, 60)\n",
        "    # Retorna True se for maior que 50, caso contrário False\n",
        "    return number, number > 50\n",
        "verificação = 0\n",
        "limite_verficação = 10\n",
        "\n",
        "# Loop para executar continuamente\n",
        "while verificação < limite_verficação:\n",
        "    num, result = check_number()\n",
        "    print(f\"Número gerado: {num} - Resultado: {'True' if result else 'False'}\")\n",
        "    verificação += 1\n",
        "    time.sleep(2)  # Espera por 2 segundos\n",
        "print(\"verificações feitas após 10 tentativas\")\n"
      ],
      "metadata": {
        "id": "USKo5owzbyTc",
        "colab": {
          "base_uri": "https://localhost:8080/"
        },
        "outputId": "70879fdd-447f-4b13-f304-faefa7711fcd"
      },
      "execution_count": 5,
      "outputs": [
        {
          "output_type": "stream",
          "name": "stdout",
          "text": [
            "Número gerado: 57 - Resultado: True\n",
            "Número gerado: 43 - Resultado: False\n",
            "Número gerado: 53 - Resultado: True\n",
            "Número gerado: 42 - Resultado: False\n",
            "Número gerado: 54 - Resultado: True\n",
            "Número gerado: 48 - Resultado: False\n",
            "Número gerado: 45 - Resultado: False\n",
            "Número gerado: 44 - Resultado: False\n",
            "Número gerado: 45 - Resultado: False\n",
            "Número gerado: 55 - Resultado: True\n",
            "verificações feitas após 10 tentativas\n"
          ]
        }
      ]
    },
    {
      "cell_type": "code",
      "source": [
        "#### Geradador de tabuada ####\n",
        "\n",
        "tabuada = int(input('Digite o número da tabuada: '))\n",
        "\n",
        "for count in range(10):\n",
        "  print(\" %s x %s = %s\" % (tabuada, count+1,tabuada*(count+1)))\n",
        ""
      ],
      "metadata": {
        "colab": {
          "base_uri": "https://localhost:8080/"
        },
        "id": "aMbILtwyJNV-",
        "outputId": "ebb87623-5649-482d-b639-c88c39a39783"
      },
      "execution_count": 3,
      "outputs": [
        {
          "output_type": "stream",
          "name": "stdout",
          "text": [
            "Digite o número da tabuada: 9\n",
            " 9 x 1 = 9\n",
            " 9 x 2 = 18\n",
            " 9 x 3 = 27\n",
            " 9 x 4 = 36\n",
            " 9 x 5 = 45\n",
            " 9 x 6 = 54\n",
            " 9 x 7 = 63\n",
            " 9 x 8 = 72\n",
            " 9 x 9 = 81\n",
            " 9 x 10 = 90\n"
          ]
        }
      ]
    }
  ]
}