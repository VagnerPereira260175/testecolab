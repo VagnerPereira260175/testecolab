{
  "nbformat": 4,
  "nbformat_minor": 0,
  "metadata": {
    "colab": {
      "provenance": [],
      "authorship_tag": "ABX9TyNAY7QFpCPhT1BpKx+Y8tPn",
      "include_colab_link": true
    },
    "kernelspec": {
      "name": "python3",
      "display_name": "Python 3"
    },
    "language_info": {
      "name": "python"
    }
  },
  "cells": [
    {
      "cell_type": "markdown",
      "metadata": {
        "id": "view-in-github",
        "colab_type": "text"
      },
      "source": [
        "<a href=\"https://colab.research.google.com/github/VagnerPereira260175/testecolab/blob/main/fun%C3%A7%C3%A3o_de_numeros_tabuada.ipynb\" target=\"_parent\"><img src=\"https://colab.research.google.com/assets/colab-badge.svg\" alt=\"Open In Colab\"/></a>"
      ]
    },
    {
      "cell_type": "code",
      "source": [
        "import random\n",
        "import time\n",
        "\n",
        "def check_number():\n",
        "    # Gera um número aleatório entre 1 e 100\n",
        "    number = random.randint(40, 60)\n",
        "    # Retorna True se for maior que 50, caso contrário False\n",
        "    return number, number > 50\n",
        "\n",
        "# Loop para executar continuamente\n",
        "while True:\n",
        "    num, result = check_number()\n",
        "    print(f\"Número gerado: {num} - Resultado: {'True' if result else 'False'}\")\n",
        "    time.sleep(2)  # Espera por 2 segundos\n"
      ],
      "metadata": {
        "id": "USKo5owzbyTc"
      },
      "execution_count": null,
      "outputs": []
    },
    {
      "cell_type": "code",
      "source": [
        "#### Geradador de tabuada ####\n",
        "\n",
        "tabuada = int(input('Digite o número da tabuada: '))\n",
        "\n",
        "for count in range(10):\n",
        "  print(\" %s x %s = %s\" % (tabuada, count+1,tabuada*(count+1)))\n",
        ""
      ],
      "metadata": {
        "colab": {
          "base_uri": "https://localhost:8080/"
        },
        "id": "aMbILtwyJNV-",
        "outputId": "ebb87623-5649-482d-b639-c88c39a39783"
      },
      "execution_count": 3,
      "outputs": [
        {
          "output_type": "stream",
          "name": "stdout",
          "text": [
            "Digite o número da tabuada: 9\n",
            " 9 x 1 = 9\n",
            " 9 x 2 = 18\n",
            " 9 x 3 = 27\n",
            " 9 x 4 = 36\n",
            " 9 x 5 = 45\n",
            " 9 x 6 = 54\n",
            " 9 x 7 = 63\n",
            " 9 x 8 = 72\n",
            " 9 x 9 = 81\n",
            " 9 x 10 = 90\n"
          ]
        }
      ]
    }
  ]
}