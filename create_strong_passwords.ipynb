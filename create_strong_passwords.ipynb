{
  "nbformat": 4,
  "nbformat_minor": 0,
  "metadata": {
    "colab": {
      "provenance": [],
      "authorship_tag": "ABX9TyNC1XSV+goYmvzPVjPfLj3s",
      "include_colab_link": true
    },
    "kernelspec": {
      "name": "python3",
      "display_name": "Python 3"
    },
    "language_info": {
      "name": "python"
    }
  },
  "cells": [
    {
      "cell_type": "markdown",
      "metadata": {
        "id": "view-in-github",
        "colab_type": "text"
      },
      "source": [
        "<a href=\"https://colab.research.google.com/github/VagnerPereira260175/testecolab/blob/main/create_strong_passwords.ipynb\" target=\"_parent\"><img src=\"https://colab.research.google.com/assets/colab-badge.svg\" alt=\"Open In Colab\"/></a>"
      ]
    },
    {
      "cell_type": "markdown",
      "source": [
        "'''Este script Python utiliza o módulo secrets para gerar um token hexadecimal de 32 bytes.\n",
        "  Em seguida, converte apenas o primeiro caractere para maiúscula antes de imprimir o token resultante.\n",
        "  O token gerado pode ser utilizado para autenticação, geração de chaves de acesso,\n",
        "  ou qualquer outra finalidade que requeira um valor aleatório e seguro.'''"
      ],
      "metadata": {
        "id": "ZrP2rBUPjbYH"
      }
    },
    {
      "cell_type": "code",
      "source": [
        "# Importando a biblioteca secrets, que fornece funções para gerar números aleatórios criptograficamente seguros para fins de segurança, como geração de tokens.\n",
        "import secrets\n",
        "\n",
        "# Gerando um token hexadecimal de 32 bytes usando a função token_hex do módulo secrets.\n",
        "token = secrets.token_hex(8)\n",
        "\n",
        "# Convertendo apenas o primeiro caractere para maiúscula. Isso pode ser útil para padronização ou formatação do token.\n",
        "token = token[:1].upper() + token[1:]\n",
        "\n",
        "# Imprimindo o token gerado.\n",
        "print(token)\n",
        "\n"
      ],
      "metadata": {
        "colab": {
          "base_uri": "https://localhost:8080/"
        },
        "id": "4syoN1BRikTm",
        "outputId": "be2f2f2b-571b-4614-e7f8-6f38a187ebec"
      },
      "execution_count": 6,
      "outputs": [
        {
          "output_type": "stream",
          "name": "stdout",
          "text": [
            "Bf1430c282d4c1a9\n"
          ]
        }
      ]
    },
    {
      "cell_type": "markdown",
      "source": [],
      "metadata": {
        "id": "63YQRKOwi3Kc"
      }
    }
  ]
}