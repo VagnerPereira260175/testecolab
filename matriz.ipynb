{
  "nbformat": 4,
  "nbformat_minor": 0,
  "metadata": {
    "colab": {
      "provenance": [],
      "authorship_tag": "ABX9TyNfVH3YzMyt2JF9NGU8ww/G",
      "include_colab_link": true
    },
    "kernelspec": {
      "name": "python3",
      "display_name": "Python 3"
    },
    "language_info": {
      "name": "python"
    }
  },
  "cells": [
    {
      "cell_type": "markdown",
      "metadata": {
        "id": "view-in-github",
        "colab_type": "text"
      },
      "source": [
        "<a href=\"https://colab.research.google.com/github/VagnerPereira260175/testecolab/blob/main/matriz.ipynb\" target=\"_parent\"><img src=\"https://colab.research.google.com/assets/colab-badge.svg\" alt=\"Open In Colab\"/></a>"
      ]
    },
    {
      "cell_type": "code",
      "execution_count": 1,
      "metadata": {
        "id": "GSnfomiW6RcG"
      },
      "outputs": [],
      "source": [
        "#Criar matriz\n",
        "\n",
        "matriz = [[0,0,0,0],\n",
        "          [0,1,0,0],\n",
        "          [1,0,0,1],\n",
        "          [0,1,0,0]\n",
        "\n",
        "]"
      ]
    },
    {
      "cell_type": "code",
      "source": [
        "def DFS(matriz,linha,coluna,visitados):\n",
        "  LINHAS,COLUNAS = len(matriz), len(matriz[0])\n",
        "  if min(linha,coluna)< 0 or linha == LINHAS or coluna == COLUNAS or (linha,coluna) in visitados or matriz[linha][coluna] == 1:\n",
        "    return 0\n",
        "\n",
        "  if linha == LINHAS - 1 and coluna == COLUNAS - 1:\n",
        "    return 1\n",
        "\n",
        "  visitados.add((linha,coluna))\n",
        "  caminhos = 0\n",
        "\n",
        "  caminhos += DFS(matriz,linha + 1 ,coluna , visitados)\n",
        "  caminhos += DFS(matriz,linha - 1 ,coluna , visitados)\n",
        "  caminhos += DFS(matriz,linha ,coluna + 1  , visitados)\n",
        "  caminhos += DFS(matriz,linha,coluna - 1, visitados)\n",
        "\n",
        "  visitados.remove((linha,coluna))\n",
        "  return caminhos\n",
        "\n",
        "\n",
        "print(DFS(matriz,0 ,0,set()))\n",
        "\n"
      ],
      "metadata": {
        "colab": {
          "base_uri": "https://localhost:8080/"
        },
        "id": "WHv9AoCt63Jz",
        "outputId": "2c25041e-a08b-47e7-abb8-e9eab40063b9"
      },
      "execution_count": 3,
      "outputs": [
        {
          "output_type": "stream",
          "name": "stdout",
          "text": [
            "2\n"
          ]
        }
      ]
    }
  ]
}