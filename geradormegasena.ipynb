{
  "nbformat": 4,
  "nbformat_minor": 0,
  "metadata": {
    "colab": {
      "provenance": [],
      "authorship_tag": "ABX9TyMhj+fgqvKI9rRWAWI7jYkj",
      "include_colab_link": true
    },
    "kernelspec": {
      "name": "python3",
      "display_name": "Python 3"
    },
    "language_info": {
      "name": "python"
    }
  },
  "cells": [
    {
      "cell_type": "markdown",
      "metadata": {
        "id": "view-in-github",
        "colab_type": "text"
      },
      "source": [
        "<a href=\"https://colab.research.google.com/github/VagnerPereira260175/testecolab/blob/main/geradormegasena.ipynb\" target=\"_parent\"><img src=\"https://colab.research.google.com/assets/colab-badge.svg\" alt=\"Open In Colab\"/></a>"
      ]
    },
    {
      "cell_type": "code",
      "execution_count": null,
      "metadata": {
        "colab": {
          "base_uri": "https://localhost:8080/"
        },
        "id": "-z7q6ciAgKct",
        "outputId": "22c8e05a-a44e-40e1-d3c7-5e79d90008b0"
      },
      "outputs": [
        {
          "output_type": "stream",
          "name": "stdout",
          "text": [
            "[47, 1, 6, 4, 35, 46]\n"
          ]
        }
      ],
      "source": [
        "import random\n",
        "'''importando a biblioteca random'''\n",
        "\n",
        "numeros = []\n",
        "'''criando uma lista vazia'''\n",
        "\n",
        "while len(numeros) < 6:\n",
        "    '''enquanto a lista tiver menos que 6 números'''\n",
        "    numero = random.randint(1, 60)\n",
        "    '''gerando um número aleatório entre 1 e 60'''\n",
        "\n",
        "    if numero not in numeros:\n",
        "        '''se o número não estiver na lista'''\n",
        "        numeros.append(numero)\n",
        "        '''adiciona o número na lista'''\n",
        "\n",
        "numeros.sort()\n",
        "'''ordena a lista em ordem crescente'''\n",
        "print(numeros)\n",
        "'''imprime a lista de números'''"
      ]
    }
  ]
}